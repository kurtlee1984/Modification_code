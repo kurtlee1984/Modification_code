{
  "nbformat": 4,
  "nbformat_minor": 0,
  "metadata": {
    "colab": {
      "name": "Scaled_YOLOv4_Pytorch_modificaton.ipynb",
      "provenance": [],
      "authorship_tag": "ABX9TyMucmErbwI0UMMlEzgSrJy0",
      "include_colab_link": true
    },
    "kernelspec": {
      "name": "python3",
      "display_name": "Python 3"
    },
    "language_info": {
      "name": "python"
    },
    "accelerator": "GPU"
  },
  "cells": [
    {
      "cell_type": "markdown",
      "metadata": {
        "id": "view-in-github",
        "colab_type": "text"
      },
      "source": [
        "<a href=\"https://colab.research.google.com/github/kurtlee1984/Modification_code/blob/main/Scaled_YOLOv4_Pytorch_modificaton.ipynb\" target=\"_parent\"><img src=\"https://colab.research.google.com/assets/colab-badge.svg\" alt=\"Open In Colab\"/></a>"
      ]
    },
    {
      "cell_type": "code",
      "metadata": {
        "id": "KK4NtKiXXUmW"
      },
      "source": [
        "# 將Colab與google_drive綁定\n",
        "# 連接到指定帳號,並複製授權碼貼上\n",
        "\n",
        "from google.colab import drive\n",
        "drive.mount('/content/drive')"
      ],
      "execution_count": null,
      "outputs": []
    },
    {
      "cell_type": "code",
      "metadata": {
        "colab": {
          "base_uri": "https://localhost:8080/"
        },
        "id": "-Cp-CRsaUlhM",
        "outputId": "a10d69e5-b16a-43a0-ead2-1951bb194166"
      },
      "source": [
        "# 從Github下載Scaled_YOLOv4資料庫\n",
        "!git clone https://github.com/roboflow-ai/ScaledYOLOv4.git  # clone repo\n",
        "%cd /content/ScaledYOLOv4/\n",
        "\n",
        "# 確認yolov4-large branch\n",
        "!git checkout yolov4-large"
      ],
      "execution_count": null,
      "outputs": [
        {
          "output_type": "stream",
          "text": [
            "Cloning into 'ScaledYOLOv4'...\n",
            "remote: Enumerating objects: 128, done.\u001b[K\n",
            "remote: Total 128 (delta 0), reused 0 (delta 0), pack-reused 128\u001b[K\n",
            "Receiving objects: 100% (128/128), 389.37 KiB | 4.75 MiB/s, done.\n",
            "Resolving deltas: 100% (39/39), done.\n",
            "/content/ScaledYOLOv4\n",
            "Branch 'yolov4-large' set up to track remote branch 'yolov4-large' from 'origin'.\n",
            "Switched to a new branch 'yolov4-large'\n"
          ],
          "name": "stdout"
        }
      ]
    },
    {
      "cell_type": "code",
      "metadata": {
        "colab": {
          "base_uri": "https://localhost:8080/"
        },
        "id": "hUyC8jqCV9ho",
        "outputId": "6539aa7d-f923-4bcd-fad8-7668af147695"
      },
      "source": [
        "# 導入需求套件和設備配置確認\n",
        "import torch\n",
        "print('Using torch %s %s' % (torch.__version__, torch.cuda.get_device_properties(0) if torch.cuda.is_available() else 'CPU'))"
      ],
      "execution_count": null,
      "outputs": [
        {
          "output_type": "stream",
          "text": [
            "Using torch 1.9.0+cu102 _CudaDeviceProperties(name='Tesla V100-SXM2-16GB', major=7, minor=0, total_memory=16160MB, multi_processor_count=80)\n"
          ],
          "name": "stdout"
        }
      ]
    },
    {
      "cell_type": "code",
      "metadata": {
        "colab": {
          "base_uri": "https://localhost:8080/"
        },
        "id": "PmdPXneJWQ_U",
        "outputId": "e51ed6f9-3932-499d-ba68-1603162effc4"
      },
      "source": [
        "# 安裝並啟動cuda顯卡優化套件\n",
        "%cd /content/\n",
        "!git clone https://github.com/JunnYu/mish-cuda\n",
        "%cd mish-cuda\n",
        "!python setup.py build install"
      ],
      "execution_count": null,
      "outputs": [
        {
          "output_type": "stream",
          "text": [
            "/content\n",
            "Cloning into 'mish-cuda'...\n",
            "remote: Enumerating objects: 195, done.\u001b[K\n",
            "remote: Counting objects: 100% (88/88), done.\u001b[K\n",
            "remote: Compressing objects: 100% (75/75), done.\u001b[K\n",
            "remote: Total 195 (delta 7), reused 79 (delta 3), pack-reused 107\u001b[K\n",
            "Receiving objects: 100% (195/195), 208.77 KiB | 10.44 MiB/s, done.\n",
            "Resolving deltas: 100% (56/56), done.\n",
            "/content/mish-cuda\n",
            "/usr/lib/python3.7/distutils/extension.py:131: UserWarning: Unknown Extension options: 'headers'\n",
            "  warnings.warn(msg)\n",
            "running build\n",
            "running build_py\n",
            "creating build\n",
            "creating build/lib.linux-x86_64-3.7\n",
            "creating build/lib.linux-x86_64-3.7/mish_cuda\n",
            "copying src/mish_cuda/__init__.py -> build/lib.linux-x86_64-3.7/mish_cuda\n",
            "running egg_info\n",
            "creating src/mish_cuda.egg-info\n",
            "writing src/mish_cuda.egg-info/PKG-INFO\n",
            "writing dependency_links to src/mish_cuda.egg-info/dependency_links.txt\n",
            "writing requirements to src/mish_cuda.egg-info/requires.txt\n",
            "writing top-level names to src/mish_cuda.egg-info/top_level.txt\n",
            "writing manifest file 'src/mish_cuda.egg-info/SOURCES.txt'\n",
            "/usr/local/lib/python3.7/dist-packages/torch/utils/cpp_extension.py:370: UserWarning: Attempted to use ninja as the BuildExtension backend but we could not find ninja.. Falling back to using the slow distutils backend.\n",
            "  warnings.warn(msg.format('we could not find ninja.'))\n",
            "adding license file 'LICENSE'\n",
            "writing manifest file 'src/mish_cuda.egg-info/SOURCES.txt'\n",
            "running build_ext\n",
            "building 'mish_cuda._C' extension\n",
            "creating build/temp.linux-x86_64-3.7\n",
            "creating build/temp.linux-x86_64-3.7/csrc\n",
            "creating build/temp.linux-x86_64-3.7/csrc/cpu\n",
            "creating build/temp.linux-x86_64-3.7/csrc/cuda\n",
            "x86_64-linux-gnu-gcc -pthread -Wno-unused-result -Wsign-compare -DNDEBUG -g -fwrapv -O2 -Wall -g -fdebug-prefix-map=/build/python3.7-LSlbJj/python3.7-3.7.11=. -fstack-protector-strong -Wformat -Werror=format-security -g -fdebug-prefix-map=/build/python3.7-LSlbJj/python3.7-3.7.11=. -fstack-protector-strong -Wformat -Werror=format-security -Wdate-time -D_FORTIFY_SOURCE=2 -fPIC -I/usr/local/lib/python3.7/dist-packages/torch/include -I/usr/local/lib/python3.7/dist-packages/torch/include/torch/csrc/api/include -I/usr/local/lib/python3.7/dist-packages/torch/include/TH -I/usr/local/lib/python3.7/dist-packages/torch/include/THC -I/usr/local/cuda/include -I/usr/include/python3.7m -c csrc/cpu/mish_cpu.cpp -o build/temp.linux-x86_64-3.7/csrc/cpu/mish_cpu.o -DTORCH_API_INCLUDE_EXTENSION_H -DPYBIND11_COMPILER_TYPE=\"_gcc\" -DPYBIND11_STDLIB=\"_libstdcpp\" -DPYBIND11_BUILD_ABI=\"_cxxabi1011\" -DTORCH_EXTENSION_NAME=_C -D_GLIBCXX_USE_CXX11_ABI=0 -std=c++14\n",
            "In file included from \u001b[01m\u001b[K/usr/local/lib/python3.7/dist-packages/torch/include/ATen/Parallel.h:140:0\u001b[m\u001b[K,\n",
            "                 from \u001b[01m\u001b[K/usr/local/lib/python3.7/dist-packages/torch/include/ATen/CPUApplyUtils.h:3\u001b[m\u001b[K,\n",
            "                 from \u001b[01m\u001b[Kcsrc/cpu/mish_cpu.cpp:3\u001b[m\u001b[K:\n",
            "\u001b[01m\u001b[K/usr/local/lib/python3.7/dist-packages/torch/include/ATen/ParallelOpenMP.h:87:0:\u001b[m\u001b[K \u001b[01;35m\u001b[Kwarning: \u001b[m\u001b[Kignoring #pragma omp parallel [\u001b[01;35m\u001b[K-Wunknown-pragmas\u001b[m\u001b[K]\n",
            " #pragma omp parallel for if ((end - begin) >= grain_size)\n",
            " \n",
            "x86_64-linux-gnu-gcc -pthread -Wno-unused-result -Wsign-compare -DNDEBUG -g -fwrapv -O2 -Wall -g -fdebug-prefix-map=/build/python3.7-LSlbJj/python3.7-3.7.11=. -fstack-protector-strong -Wformat -Werror=format-security -g -fdebug-prefix-map=/build/python3.7-LSlbJj/python3.7-3.7.11=. -fstack-protector-strong -Wformat -Werror=format-security -Wdate-time -D_FORTIFY_SOURCE=2 -fPIC -I/usr/local/lib/python3.7/dist-packages/torch/include -I/usr/local/lib/python3.7/dist-packages/torch/include/torch/csrc/api/include -I/usr/local/lib/python3.7/dist-packages/torch/include/TH -I/usr/local/lib/python3.7/dist-packages/torch/include/THC -I/usr/local/cuda/include -I/usr/include/python3.7m -c csrc/cuda/mish_cuda.cpp -o build/temp.linux-x86_64-3.7/csrc/cuda/mish_cuda.o -DTORCH_API_INCLUDE_EXTENSION_H -DPYBIND11_COMPILER_TYPE=\"_gcc\" -DPYBIND11_STDLIB=\"_libstdcpp\" -DPYBIND11_BUILD_ABI=\"_cxxabi1011\" -DTORCH_EXTENSION_NAME=_C -D_GLIBCXX_USE_CXX11_ABI=0 -std=c++14\n",
            "In file included from \u001b[01m\u001b[K/usr/local/lib/python3.7/dist-packages/torch/include/ATen/Parallel.h:140:0\u001b[m\u001b[K,\n",
            "                 from \u001b[01m\u001b[K/usr/local/lib/python3.7/dist-packages/torch/include/torch/csrc/api/include/torch/utils.h:3\u001b[m\u001b[K,\n",
            "                 from \u001b[01m\u001b[K/usr/local/lib/python3.7/dist-packages/torch/include/torch/csrc/api/include/torch/nn/cloneable.h:5\u001b[m\u001b[K,\n",
            "                 from \u001b[01m\u001b[K/usr/local/lib/python3.7/dist-packages/torch/include/torch/csrc/api/include/torch/nn.h:3\u001b[m\u001b[K,\n",
            "                 from \u001b[01m\u001b[K/usr/local/lib/python3.7/dist-packages/torch/include/torch/csrc/api/include/torch/all.h:13\u001b[m\u001b[K,\n",
            "                 from \u001b[01m\u001b[K/usr/local/lib/python3.7/dist-packages/torch/include/torch/extension.h:4\u001b[m\u001b[K,\n",
            "                 from \u001b[01m\u001b[Kcsrc/cuda/mish_cuda.cpp:2\u001b[m\u001b[K:\n",
            "\u001b[01m\u001b[K/usr/local/lib/python3.7/dist-packages/torch/include/ATen/ParallelOpenMP.h:87:0:\u001b[m\u001b[K \u001b[01;35m\u001b[Kwarning: \u001b[m\u001b[Kignoring #pragma omp parallel [\u001b[01;35m\u001b[K-Wunknown-pragmas\u001b[m\u001b[K]\n",
            " #pragma omp parallel for if ((end - begin) >= grain_size)\n",
            " \n",
            "/usr/local/cuda/bin/nvcc -I/usr/local/lib/python3.7/dist-packages/torch/include -I/usr/local/lib/python3.7/dist-packages/torch/include/torch/csrc/api/include -I/usr/local/lib/python3.7/dist-packages/torch/include/TH -I/usr/local/lib/python3.7/dist-packages/torch/include/THC -I/usr/local/cuda/include -I/usr/include/python3.7m -c csrc/cuda/mish_kernel.cu -o build/temp.linux-x86_64-3.7/csrc/cuda/mish_kernel.o -D__CUDA_NO_HALF_OPERATORS__ -D__CUDA_NO_HALF_CONVERSIONS__ -D__CUDA_NO_BFLOAT16_CONVERSIONS__ -D__CUDA_NO_HALF2_OPERATORS__ --expt-relaxed-constexpr --compiler-options '-fPIC' --expt-extended-lambda -DTORCH_API_INCLUDE_EXTENSION_H -DPYBIND11_COMPILER_TYPE=\"_gcc\" -DPYBIND11_STDLIB=\"_libstdcpp\" -DPYBIND11_BUILD_ABI=\"_cxxabi1011\" -DTORCH_EXTENSION_NAME=_C -D_GLIBCXX_USE_CXX11_ABI=0 -gencode=arch=compute_70,code=compute_70 -gencode=arch=compute_70,code=sm_70 -std=c++14\n",
            "x86_64-linux-gnu-g++ -pthread -shared -Wl,-O1 -Wl,-Bsymbolic-functions -Wl,-Bsymbolic-functions -Wl,-z,relro -Wl,-Bsymbolic-functions -Wl,-z,relro -g -fdebug-prefix-map=/build/python3.7-LSlbJj/python3.7-3.7.11=. -fstack-protector-strong -Wformat -Werror=format-security -Wdate-time -D_FORTIFY_SOURCE=2 build/temp.linux-x86_64-3.7/csrc/cpu/mish_cpu.o build/temp.linux-x86_64-3.7/csrc/cuda/mish_cuda.o build/temp.linux-x86_64-3.7/csrc/cuda/mish_kernel.o -L/usr/local/lib/python3.7/dist-packages/torch/lib -L/usr/local/cuda/lib64 -lc10 -ltorch -ltorch_cpu -ltorch_python -lcudart -lc10_cuda -ltorch_cuda -o build/lib.linux-x86_64-3.7/mish_cuda/_C.cpython-37m-x86_64-linux-gnu.so\n",
            "running install\n",
            "running bdist_egg\n",
            "installing library code to build/bdist.linux-x86_64/egg\n",
            "running install_lib\n",
            "creating build/bdist.linux-x86_64\n",
            "creating build/bdist.linux-x86_64/egg\n",
            "creating build/bdist.linux-x86_64/egg/mish_cuda\n",
            "copying build/lib.linux-x86_64-3.7/mish_cuda/_C.cpython-37m-x86_64-linux-gnu.so -> build/bdist.linux-x86_64/egg/mish_cuda\n",
            "copying build/lib.linux-x86_64-3.7/mish_cuda/__init__.py -> build/bdist.linux-x86_64/egg/mish_cuda\n",
            "byte-compiling build/bdist.linux-x86_64/egg/mish_cuda/__init__.py to __init__.cpython-37.pyc\n",
            "creating stub loader for mish_cuda/_C.cpython-37m-x86_64-linux-gnu.so\n",
            "byte-compiling build/bdist.linux-x86_64/egg/mish_cuda/_C.py to _C.cpython-37.pyc\n",
            "creating build/bdist.linux-x86_64/egg/EGG-INFO\n",
            "copying src/mish_cuda.egg-info/PKG-INFO -> build/bdist.linux-x86_64/egg/EGG-INFO\n",
            "copying src/mish_cuda.egg-info/SOURCES.txt -> build/bdist.linux-x86_64/egg/EGG-INFO\n",
            "copying src/mish_cuda.egg-info/dependency_links.txt -> build/bdist.linux-x86_64/egg/EGG-INFO\n",
            "copying src/mish_cuda.egg-info/not-zip-safe -> build/bdist.linux-x86_64/egg/EGG-INFO\n",
            "copying src/mish_cuda.egg-info/requires.txt -> build/bdist.linux-x86_64/egg/EGG-INFO\n",
            "copying src/mish_cuda.egg-info/top_level.txt -> build/bdist.linux-x86_64/egg/EGG-INFO\n",
            "writing build/bdist.linux-x86_64/egg/EGG-INFO/native_libs.txt\n",
            "creating dist\n",
            "creating 'dist/mish_cuda-0.0.3-py3.7-linux-x86_64.egg' and adding 'build/bdist.linux-x86_64/egg' to it\n",
            "removing 'build/bdist.linux-x86_64/egg' (and everything under it)\n",
            "Processing mish_cuda-0.0.3-py3.7-linux-x86_64.egg\n",
            "creating /usr/local/lib/python3.7/dist-packages/mish_cuda-0.0.3-py3.7-linux-x86_64.egg\n",
            "Extracting mish_cuda-0.0.3-py3.7-linux-x86_64.egg to /usr/local/lib/python3.7/dist-packages\n",
            "Adding mish-cuda 0.0.3 to easy-install.pth file\n",
            "\n",
            "Installed /usr/local/lib/python3.7/dist-packages/mish_cuda-0.0.3-py3.7-linux-x86_64.egg\n",
            "Processing dependencies for mish-cuda==0.0.3\n",
            "Searching for torch==1.9.0+cu102\n",
            "Best match: torch 1.9.0+cu102\n",
            "Adding torch 1.9.0+cu102 to easy-install.pth file\n",
            "Installing convert-caffe2-to-onnx script to /usr/local/bin\n",
            "Installing convert-onnx-to-caffe2 script to /usr/local/bin\n",
            "\n",
            "Using /usr/local/lib/python3.7/dist-packages\n",
            "Searching for typing-extensions==3.7.4.3\n",
            "Best match: typing-extensions 3.7.4.3\n",
            "Adding typing-extensions 3.7.4.3 to easy-install.pth file\n",
            "\n",
            "Using /usr/local/lib/python3.7/dist-packages\n",
            "Finished processing dependencies for mish-cuda==0.0.3\n"
          ],
          "name": "stdout"
        }
      ]
    },
    {
      "cell_type": "code",
      "metadata": {
        "colab": {
          "base_uri": "https://localhost:8080/"
        },
        "id": "IOr11CvrWmGK",
        "outputId": "a2b402dc-fe70-489b-f3b1-84c51f8bc3d6"
      },
      "source": [
        "# 下載安裝PyYAM(為python的yaml檔案的解析套件)\n",
        "!pip install -U PyYAML"
      ],
      "execution_count": null,
      "outputs": [
        {
          "output_type": "stream",
          "text": [
            "Collecting PyYAML\n",
            "\u001b[?25l  Downloading https://files.pythonhosted.org/packages/7a/a5/393c087efdc78091afa2af9f1378762f9821c9c1d7a22c5753fb5ac5f97a/PyYAML-5.4.1-cp37-cp37m-manylinux1_x86_64.whl (636kB)\n",
            "\r\u001b[K     |▌                               | 10kB 24.9MB/s eta 0:00:01\r\u001b[K     |█                               | 20kB 30.8MB/s eta 0:00:01\r\u001b[K     |█▌                              | 30kB 31.6MB/s eta 0:00:01\r\u001b[K     |██                              | 40kB 22.8MB/s eta 0:00:01\r\u001b[K     |██▋                             | 51kB 15.6MB/s eta 0:00:01\r\u001b[K     |███                             | 61kB 16.8MB/s eta 0:00:01\r\u001b[K     |███▋                            | 71kB 14.3MB/s eta 0:00:01\r\u001b[K     |████▏                           | 81kB 15.2MB/s eta 0:00:01\r\u001b[K     |████▋                           | 92kB 16.4MB/s eta 0:00:01\r\u001b[K     |█████▏                          | 102kB 14.4MB/s eta 0:00:01\r\u001b[K     |█████▋                          | 112kB 14.4MB/s eta 0:00:01\r\u001b[K     |██████▏                         | 122kB 14.4MB/s eta 0:00:01\r\u001b[K     |██████▊                         | 133kB 14.4MB/s eta 0:00:01\r\u001b[K     |███████▏                        | 143kB 14.4MB/s eta 0:00:01\r\u001b[K     |███████▊                        | 153kB 14.4MB/s eta 0:00:01\r\u001b[K     |████████▎                       | 163kB 14.4MB/s eta 0:00:01\r\u001b[K     |████████▊                       | 174kB 14.4MB/s eta 0:00:01\r\u001b[K     |█████████▎                      | 184kB 14.4MB/s eta 0:00:01\r\u001b[K     |█████████▉                      | 194kB 14.4MB/s eta 0:00:01\r\u001b[K     |██████████▎                     | 204kB 14.4MB/s eta 0:00:01\r\u001b[K     |██████████▉                     | 215kB 14.4MB/s eta 0:00:01\r\u001b[K     |███████████▎                    | 225kB 14.4MB/s eta 0:00:01\r\u001b[K     |███████████▉                    | 235kB 14.4MB/s eta 0:00:01\r\u001b[K     |████████████▍                   | 245kB 14.4MB/s eta 0:00:01\r\u001b[K     |████████████▉                   | 256kB 14.4MB/s eta 0:00:01\r\u001b[K     |█████████████▍                  | 266kB 14.4MB/s eta 0:00:01\r\u001b[K     |██████████████                  | 276kB 14.4MB/s eta 0:00:01\r\u001b[K     |██████████████▍                 | 286kB 14.4MB/s eta 0:00:01\r\u001b[K     |███████████████                 | 296kB 14.4MB/s eta 0:00:01\r\u001b[K     |███████████████▍                | 307kB 14.4MB/s eta 0:00:01\r\u001b[K     |████████████████                | 317kB 14.4MB/s eta 0:00:01\r\u001b[K     |████████████████▌               | 327kB 14.4MB/s eta 0:00:01\r\u001b[K     |█████████████████               | 337kB 14.4MB/s eta 0:00:01\r\u001b[K     |█████████████████▌              | 348kB 14.4MB/s eta 0:00:01\r\u001b[K     |██████████████████              | 358kB 14.4MB/s eta 0:00:01\r\u001b[K     |██████████████████▌             | 368kB 14.4MB/s eta 0:00:01\r\u001b[K     |███████████████████             | 378kB 14.4MB/s eta 0:00:01\r\u001b[K     |███████████████████▋            | 389kB 14.4MB/s eta 0:00:01\r\u001b[K     |████████████████████            | 399kB 14.4MB/s eta 0:00:01\r\u001b[K     |████████████████████▋           | 409kB 14.4MB/s eta 0:00:01\r\u001b[K     |█████████████████████           | 419kB 14.4MB/s eta 0:00:01\r\u001b[K     |█████████████████████▋          | 430kB 14.4MB/s eta 0:00:01\r\u001b[K     |██████████████████████▏         | 440kB 14.4MB/s eta 0:00:01\r\u001b[K     |██████████████████████▋         | 450kB 14.4MB/s eta 0:00:01\r\u001b[K     |███████████████████████▏        | 460kB 14.4MB/s eta 0:00:01\r\u001b[K     |███████████████████████▊        | 471kB 14.4MB/s eta 0:00:01\r\u001b[K     |████████████████████████▏       | 481kB 14.4MB/s eta 0:00:01\r\u001b[K     |████████████████████████▊       | 491kB 14.4MB/s eta 0:00:01\r\u001b[K     |█████████████████████████▏      | 501kB 14.4MB/s eta 0:00:01\r\u001b[K     |█████████████████████████▊      | 512kB 14.4MB/s eta 0:00:01\r\u001b[K     |██████████████████████████▎     | 522kB 14.4MB/s eta 0:00:01\r\u001b[K     |██████████████████████████▊     | 532kB 14.4MB/s eta 0:00:01\r\u001b[K     |███████████████████████████▎    | 542kB 14.4MB/s eta 0:00:01\r\u001b[K     |███████████████████████████▉    | 552kB 14.4MB/s eta 0:00:01\r\u001b[K     |████████████████████████████▎   | 563kB 14.4MB/s eta 0:00:01\r\u001b[K     |████████████████████████████▉   | 573kB 14.4MB/s eta 0:00:01\r\u001b[K     |█████████████████████████████▍  | 583kB 14.4MB/s eta 0:00:01\r\u001b[K     |█████████████████████████████▉  | 593kB 14.4MB/s eta 0:00:01\r\u001b[K     |██████████████████████████████▍ | 604kB 14.4MB/s eta 0:00:01\r\u001b[K     |██████████████████████████████▉ | 614kB 14.4MB/s eta 0:00:01\r\u001b[K     |███████████████████████████████▍| 624kB 14.4MB/s eta 0:00:01\r\u001b[K     |████████████████████████████████| 634kB 14.4MB/s eta 0:00:01\r\u001b[K     |████████████████████████████████| 645kB 14.4MB/s \n",
            "\u001b[?25hInstalling collected packages: PyYAML\n",
            "  Found existing installation: PyYAML 3.13\n",
            "    Uninstalling PyYAML-3.13:\n",
            "      Successfully uninstalled PyYAML-3.13\n",
            "Successfully installed PyYAML-5.4.1\n"
          ],
          "name": "stdout"
        }
      ]
    },
    {
      "cell_type": "code",
      "metadata": {
        "colab": {
          "base_uri": "https://localhost:8080/"
        },
        "id": "U2DU2Wv3W7R8",
        "outputId": "daa3a261-f62e-42aa-ac3e-1c1e092ee8eb"
      },
      "source": [
        "# 轉換當前路徑目錄\n",
        "# 下載資料集,並於google_drive取得壓縮檔的id\n",
        "# id取得方法,到google_drive指定壓縮檔,滑鼠右鍵選擇取得連結,更改權限由限制->知道連結的使用者,複製連結在筆記本上\n",
        "# https://drive.google.com/file/d/這裡就是壓縮檔的id/view?usp=sharing\n",
        "\n",
        "%cd /content\n",
        "!gdown --id '196DvWOY8jQZe9m6D2FFPeUBTpPSXsap0' -O dataset.zip"
      ],
      "execution_count": null,
      "outputs": [
        {
          "output_type": "stream",
          "text": [
            "/content\n",
            "Downloading...\n",
            "From: https://drive.google.com/uc?id=196DvWOY8jQZe9m6D2FFPeUBTpPSXsap0\n",
            "To: /content/dataset.zip\n",
            "275MB [00:04, 68.2MB/s]\n"
          ],
          "name": "stdout"
        }
      ]
    },
    {
      "cell_type": "code",
      "metadata": {
        "id": "LWETUZ7sXFOu"
      },
      "source": [
        "# 解壓縮,注意壓縮檔名稱需與代碼一致\n",
        "# 解壓縮完,於右邊選擇檔案,看有無已解壓縮的資料夾\n",
        "\n",
        "!unzip -q dataset.zip; rm dataset.zip"
      ],
      "execution_count": null,
      "outputs": []
    },
    {
      "cell_type": "code",
      "metadata": {
        "colab": {
          "base_uri": "https://localhost:8080/"
        },
        "id": "E5Q4mPfMgs_T",
        "outputId": "a42eca2e-ff47-4b2e-a8c3-7c3e509198d8"
      },
      "source": [
        "# 確定檔案位置和類別數\n",
        "\n",
        "%cd /content\n",
        "%cat data.yaml"
      ],
      "execution_count": null,
      "outputs": [
        {
          "output_type": "stream",
          "text": [
            "/content\n",
            "train: ../train/images\n",
            "val: ../valid/images\n",
            "\n",
            "nc: 33\n",
            "names: ['bacon', 'bagel', 'baguette', 'baozi', 'burger', 'cereal', 'chips', 'cong_you_bing', 'corn_soup', 'croissant', 'danbing', 'drinks', 'fantuan', 'fried_baozi', 'fried_egg', 'guotie', 'ham', 'hash_brown', 'hotdog', 'pancake', 'radish_cake', 'salad', 'sandwich', 'shaobing', 'sliced_bread', 'steamed_bread', 'tea_egg', 'teppanyaki_noodle', 'triangle_rice_ball', 'waffle', 'water_rice', 'xiaolongbao', 'you_tiao']"
          ],
          "name": "stdout"
        }
      ]
    },
    {
      "cell_type": "code",
      "metadata": {
        "id": "WeE7yrchhLnz"
      },
      "source": [
        "# 根據data.yaml來定義訓練的類別數\n",
        "\n",
        "import yaml\n",
        "with open(\"data.yaml\", 'r') as stream:\n",
        "    num_classes = str(yaml.safe_load(stream)['nc'])"
      ],
      "execution_count": null,
      "outputs": []
    },
    {
      "cell_type": "code",
      "metadata": {
        "colab": {
          "base_uri": "https://localhost:8080/"
        },
        "id": "jnVfEFr0g8oN",
        "outputId": "ed32e121-0cff-4796-95f5-38df2bc9314f"
      },
      "source": [
        "# 讀取ScaledYOLOv4資料夾內yolov4的模型框架\n",
        "\n",
        "%cat /content/ScaledYOLOv4/models/yolov4-csp.yaml"
      ],
      "execution_count": null,
      "outputs": [
        {
          "output_type": "stream",
          "text": [
            "# parameters\n",
            "nc: 80  # number of classes\n",
            "depth_multiple: 1.0  # model depth multiple\n",
            "width_multiple: 1.0  # layer channel multiple\n",
            "\n",
            "# anchors\n",
            "anchors:\n",
            "  - [12,16, 19,36, 40,28]  # P3/8\n",
            "  - [36,75, 76,55, 72,146]  # P4/16\n",
            "  - [142,110, 192,243, 459,401]  # P5/32\n",
            "\n",
            "# yolov4-csp backbone\n",
            "backbone:\n",
            "  # [from, number, module, args]\n",
            "  [[-1, 1, Conv, [32, 3, 1]],  # 0\n",
            "   [-1, 1, Conv, [64, 3, 2]],  # 1-P1/2\n",
            "   [-1, 1, Bottleneck, [64]],\n",
            "   [-1, 1, Conv, [128, 3, 2]],  # 3-P2/4\n",
            "   [-1, 2, BottleneckCSP, [128]],\n",
            "   [-1, 1, Conv, [256, 3, 2]],  # 5-P3/8\n",
            "   [-1, 8, BottleneckCSP, [256]],\n",
            "   [-1, 1, Conv, [512, 3, 2]],  # 7-P4/16\n",
            "   [-1, 8, BottleneckCSP, [512]],\n",
            "   [-1, 1, Conv, [1024, 3, 2]], # 9-P5/32\n",
            "   [-1, 4, BottleneckCSP, [1024]],  # 10\n",
            "  ]\n",
            "\n",
            "# yolov4-csp head\n",
            "# na = len(anchors[0])\n",
            "head:\n",
            "  [[-1, 1, SPPCSP, [512]], # 11\n",
            "   [-1, 1, Conv, [256, 1, 1]],\n",
            "   [-1, 1, nn.Upsample, [None, 2, 'nearest']],\n",
            "   [8, 1, Conv, [256, 1, 1]], # route backbone P4\n",
            "   [[-1, -2], 1, Concat, [1]],\n",
            "   [-1, 2, BottleneckCSP2, [256]], # 16 \n",
            "   [-1, 1, Conv, [128, 1, 1]],\n",
            "   [-1, 1, nn.Upsample, [None, 2, 'nearest']],\n",
            "   [6, 1, Conv, [128, 1, 1]], # route backbone P3\n",
            "   [[-1, -2], 1, Concat, [1]],\n",
            "   [-1, 2, BottleneckCSP2, [128]], # 21\n",
            "   [-1, 1, Conv, [256, 3, 1]],\n",
            "   [-2, 1, Conv, [256, 3, 2]],\n",
            "   [[-1, 16], 1, Concat, [1]],  # cat\n",
            "   [-1, 2, BottleneckCSP2, [256]], # 25\n",
            "   [-1, 1, Conv, [512, 3, 1]],\n",
            "   [-2, 1, Conv, [512, 3, 2]],\n",
            "   [[-1, 11], 1, Concat, [1]],  # cat\n",
            "   [-1, 2, BottleneckCSP2, [512]], # 29\n",
            "   [-1, 1, Conv, [1024, 3, 1]],\n",
            "\n",
            "   [[22,26,30], 1, Detect, [nc, anchors]],   # Detect(P3, P4, P5)\n",
            "  ]\n"
          ],
          "name": "stdout"
        }
      ]
    },
    {
      "cell_type": "code",
      "metadata": {
        "id": "WnZna5zOhW5i"
      },
      "source": [
        "# 以自己所需求的epoch數量去訓練ScaledYOLOv4, 可自行修改所需要的epochs數量,這裡是1000epochs\n",
        "# 參數說明: img(輸入的圖片尺寸), batch(batch 大小), epochs(epochs數量), data(.yaml的路徑),cfg(模型的架構),\n",
        "#       weights(權重,可修改成自己已訓練的權重路徑),name(結果的名稱), nosave(只存最後的checkpoint), cache(內存與圖像高速緩存)\n",
        "\n",
        "%%time\n",
        "%cd /content/ScaledYOLOv4/\n",
        "!python train.py --img 416 --batch 16 --epochs 1000 --data '../data.yaml' --cfg ./models/yolov4-csp.yaml --weights '' --name yolov4-csp-results  --cache"
      ],
      "execution_count": null,
      "outputs": []
    },
    {
      "cell_type": "code",
      "metadata": {
        "id": "0XUwqmQbiNMf"
      },
      "source": [
        "# 使用tensorboard可視化套件\n",
        "# 讀取\"runs\"資料夾下的結果\n",
        "\n",
        "%load_ext tensorboard\n",
        "%tensorboard --logdir runs"
      ],
      "execution_count": null,
      "outputs": []
    },
    {
      "cell_type": "code",
      "metadata": {
        "id": "visbyPfmi56o"
      },
      "source": [
        "# 對於某些較老舊的圖表,如果tensorboard無法顯示,請使用以下套件繪製\n",
        "\n",
        "from utils.general import plot_results  \n",
        "plot results.txt as results.png"
      ],
      "execution_count": null,
      "outputs": []
    },
    {
      "cell_type": "code",
      "metadata": {
        "id": "7Do3OIHMiOGn"
      },
      "source": [
        "# 導入繪圖與顯示套件\n",
        "from IPython.display import Image, display\n",
        "\n",
        "# 圖片路徑(如果不對記得修改), 繪圖參數\n",
        "display(Image('/content/ScaledYOLOv4/runs/exp0_yolov4-csp-results/results.png'))  # view results.png"
      ],
      "execution_count": null,
      "outputs": []
    },
    {
      "cell_type": "code",
      "metadata": {
        "id": "LcMOhDQvjnq5"
      },
      "source": [
        "# 顯示正確Test的照片和其標註的label\n",
        "# 圖片路徑(如果不對記得修改), 繪圖參數\n",
        "\n",
        "print(\"GROUND TRUTH TRAINING DATA:\")\n",
        "Image(filename='/content/ScaledYOLOv4/runs/exp0_yolov4-csp-results/test_batch0_gt.jpg', width=900)"
      ],
      "execution_count": null,
      "outputs": []
    },
    {
      "cell_type": "code",
      "metadata": {
        "id": "YOEaak-ljyIE"
      },
      "source": [
        "# 顯示augment後test的照片和其標註的label\n",
        "# 圖片路徑(如果不對記得修改), 繪圖參數\n",
        "\n",
        "print(\"GROUND TRUTH AUGMENTED TRAINING DATA:\")\n",
        "Image(filename='/content/ScaledYOLOv4/runs/exp0_yolov4-csp-results/train_batch0.jpg', width=900)"
      ],
      "execution_count": null,
      "outputs": []
    },
    {
      "cell_type": "code",
      "metadata": {
        "id": "BCnV-bb2j3kK"
      },
      "source": [
        "# 已訓練完的權重會存在runs資料夾, 並檢視檔案與目錄的狀態\n",
        "\n",
        "%ls runs/"
      ],
      "execution_count": null,
      "outputs": []
    },
    {
      "cell_type": "code",
      "metadata": {
        "id": "dcFWuidwkE3c"
      },
      "source": [
        "# 檢視檔案與目錄的狀態\n",
        "\n",
        "%ls ./runs/exp0_yolov4-csp-results/weights"
      ],
      "execution_count": null,
      "outputs": []
    },
    {
      "cell_type": "code",
      "metadata": {
        "id": "CPHTBSO_kHuU"
      },
      "source": [
        "# inference存放test資料夾下的照片\n",
        "# 使用訓練時最好的權重,best.pt(需要注意路徑是否正確)\n",
        "\n",
        "%cd /content/ScaledYOLOv4/\n",
        "!python detect.py --weights ./runs/exp0_yolov4-csp-results/weights/best_yolov4-csp-results.pt --img 416 --conf 0.4 --source ../test/images"
      ],
      "execution_count": null,
      "outputs": []
    },
    {
      "cell_type": "code",
      "metadata": {
        "id": "Ni8B69C6kP6p"
      },
      "source": [
        "# 顯示出inference後的圖片(需要注意路徑是否正確)\n",
        "\n",
        "import glob\n",
        "from IPython.display import Image, display\n",
        "\n",
        "for imageName in glob.glob('./inference/output/*.jpg'): #assuming JPG\n",
        "    display(Image(filename=imageName))\n",
        "    print(\"\\n\")"
      ],
      "execution_count": null,
      "outputs": []
    },
    {
      "cell_type": "code",
      "metadata": {
        "id": "i719erZMka8K"
      },
      "source": [
        "#下載權重檔案到google_drive\n",
        "\n",
        "from google.colab import files\n",
        "files.download('./runs/exp0_yolov4-csp-results/weights/best_yolov4-csp-results.pt')"
      ],
      "execution_count": null,
      "outputs": []
    }
  ]
}