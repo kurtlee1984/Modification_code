{
  "nbformat": 4,
  "nbformat_minor": 0,
  "metadata": {
    "colab": {
      "name": "Scaled_YOLOv4_Pytorch_modificaton.ipynb",
      "provenance": [],
      "authorship_tag": "ABX9TyMEv7s2uZ9mIksip4inRnPa",
      "include_colab_link": true
    },
    "kernelspec": {
      "name": "python3",
      "display_name": "Python 3"
    },
    "language_info": {
      "name": "python"
    },
    "accelerator": "GPU"
  },
  "cells": [
    {
      "cell_type": "markdown",
      "metadata": {
        "id": "view-in-github",
        "colab_type": "text"
      },
      "source": [
        "<a href=\"https://colab.research.google.com/github/kurtlee1984/Modification_code/blob/main/Scaled_YOLOv4_Pytorch_modificaton.ipynb\" target=\"_parent\"><img src=\"https://colab.research.google.com/assets/colab-badge.svg\" alt=\"Open In Colab\"/></a>"
      ]
    },
    {
      "cell_type": "code",
      "metadata": {
        "id": "KK4NtKiXXUmW"
      },
      "source": [
        "# 將 Colab 與 google_drive 綁定\n",
        "# 連接到指定帳號,並複製授權碼貼上\n",
        "\n",
        "from google.colab import drive\n",
        "drive.mount('/content/drive')"
      ],
      "execution_count": null,
      "outputs": []
    },
    {
      "cell_type": "code",
      "metadata": {
        "id": "06aub3q5T2MG"
      },
      "source": [
        "# 當前設備顯卡參數列表明細:\n",
        "\n",
        "!nvidia-smi"
      ],
      "execution_count": null,
      "outputs": []
    },
    {
      "cell_type": "code",
      "metadata": {
        "id": "-Cp-CRsaUlhM"
      },
      "source": [
        "# 從 Github 下載 Scaled_YOLOv4 資料庫\n",
        "!git clone https://github.com/roboflow-ai/ScaledYOLOv4.git  # clone repo\n",
        "%cd /content/ScaledYOLOv4/\n",
        "\n",
        "# 可選擇版本 yolov4-large 或 yolov4-CSP 架構, 可擇一使用\n",
        "\n",
        "# 確認 yolov4-large branch\n",
        "!git checkout yolov4-large\n",
        "\n",
        "# 確認 yolov4-CSP branch\n",
        "# !git checkout yolov4-CSP"
      ],
      "execution_count": null,
      "outputs": []
    },
    {
      "cell_type": "code",
      "metadata": {
        "id": "hUyC8jqCV9ho"
      },
      "source": [
        "# 導入需求套件和設備配置確認\n",
        "import torch\n",
        "print('Using torch %s %s' % (torch.__version__, torch.cuda.get_device_properties(0) if torch.cuda.is_available() else 'CPU'))"
      ],
      "execution_count": null,
      "outputs": []
    },
    {
      "cell_type": "code",
      "metadata": {
        "id": "PmdPXneJWQ_U"
      },
      "source": [
        "# 安裝並啟動 cuda 顯卡優化套件\n",
        "%cd /content/\n",
        "!git clone https://github.com/JunnYu/mish-cuda\n",
        "%cd mish-cuda\n",
        "!python setup.py build install"
      ],
      "execution_count": null,
      "outputs": []
    },
    {
      "cell_type": "code",
      "metadata": {
        "id": "IOr11CvrWmGK"
      },
      "source": [
        "# 下載安裝 PyYAM (為 python 的 yaml 檔案的解析套件)\n",
        "!pip install -U PyYAML"
      ],
      "execution_count": null,
      "outputs": []
    },
    {
      "cell_type": "code",
      "metadata": {
        "id": "U2DU2Wv3W7R8"
      },
      "source": [
        "# 轉換當前路徑目錄\n",
        "# 下載資料集,並於 google_drive 取得壓縮檔的 id\n",
        "# id 取得方法,到 google_drive 指定壓縮檔,滑鼠右鍵選擇取得連結,更改權限由限制->知道連結的使用者,複製連結在筆記本上\n",
        "# https://drive.google.com/file/d/這裡就是壓縮檔的id/view?usp=sharing\n",
        "\n",
        "%cd /content\n",
        "!gdown --id '159gaoK_65Qfbez5llMrkvHqUR3KYOFl7' -O dataset.zip"
      ],
      "execution_count": null,
      "outputs": []
    },
    {
      "cell_type": "code",
      "metadata": {
        "id": "LWETUZ7sXFOu"
      },
      "source": [
        "# 解壓縮,注意壓縮檔名稱需與代碼一致\n",
        "# 解壓縮完,於右邊選擇檔案,看有無已解壓縮的資料夾\n",
        "\n",
        "!unzip -q dataset.zip; rm dataset.zip"
      ],
      "execution_count": null,
      "outputs": []
    },
    {
      "cell_type": "code",
      "metadata": {
        "colab": {
          "base_uri": "https://localhost:8080/"
        },
        "id": "E5Q4mPfMgs_T",
        "outputId": "a42eca2e-ff47-4b2e-a8c3-7c3e509198d8"
      },
      "source": [
        "# 確定檔案位置和類別數\n",
        "\n",
        "%cd /content\n",
        "%cat data.yaml"
      ],
      "execution_count": null,
      "outputs": [
        {
          "output_type": "stream",
          "text": [
            "/content\n",
            "train: ../train/images\n",
            "val: ../valid/images\n",
            "\n",
            "nc: 33\n",
            "names: ['bacon', 'bagel', 'baguette', 'baozi', 'burger', 'cereal', 'chips', 'cong_you_bing', 'corn_soup', 'croissant', 'danbing', 'drinks', 'fantuan', 'fried_baozi', 'fried_egg', 'guotie', 'ham', 'hash_brown', 'hotdog', 'pancake', 'radish_cake', 'salad', 'sandwich', 'shaobing', 'sliced_bread', 'steamed_bread', 'tea_egg', 'teppanyaki_noodle', 'triangle_rice_ball', 'waffle', 'water_rice', 'xiaolongbao', 'you_tiao']"
          ],
          "name": "stdout"
        }
      ]
    },
    {
      "cell_type": "code",
      "metadata": {
        "id": "WeE7yrchhLnz"
      },
      "source": [
        "# 根據 data.yaml 來定義訓練的類別數\n",
        "\n",
        "import yaml\n",
        "with open(\"data.yaml\", 'r') as stream:\n",
        "    num_classes = str(yaml.safe_load(stream)['nc'])"
      ],
      "execution_count": null,
      "outputs": []
    },
    {
      "cell_type": "code",
      "metadata": {
        "id": "jnVfEFr0g8oN"
      },
      "source": [
        "# 讀取ScaledYOLOv4資料夾內yolov4的模型框架\n",
        "\n",
        "%cat /content/ScaledYOLOv4/models/yolov4-csp.yaml"
      ],
      "execution_count": null,
      "outputs": []
    },
    {
      "cell_type": "code",
      "metadata": {
        "id": "WnZna5zOhW5i"
      },
      "source": [
        "# 以自己所需求的 epoch 數量去訓練S caledYOLOv4, 可自行修改所需要的 epochs 數量,這裡是1000epochs\n",
        "# 參數說明: img(輸入的圖片尺寸), batch(batch 大小), epochs(epochs數量), data(.yaml的路徑),cfg(模型的架構),\n",
        "#            weights(權重,可修改成自己已訓練的權重路徑),name(結果的名稱), nosave(只存最後的checkpoint), cache(內存與圖像高速緩存)\n",
        "\n",
        "%%time\n",
        "%cd /content/ScaledYOLOv4/\n",
        "!python train.py --img 416 --batch 16 --epochs 1000 --data '../data.yaml' --cfg ./models/yolov4-csp.yaml --weights '' --name yolov4-csp-results  --cache"
      ],
      "execution_count": null,
      "outputs": []
    },
    {
      "cell_type": "code",
      "metadata": {
        "id": "0XUwqmQbiNMf"
      },
      "source": [
        "# 使用 tensorboard 可視化套件\n",
        "# 讀取\"runs\"資料夾下的結果\n",
        "\n",
        "%load_ext tensorboard\n",
        "%tensorboard --logdir runs"
      ],
      "execution_count": null,
      "outputs": []
    },
    {
      "cell_type": "code",
      "metadata": {
        "id": "visbyPfmi56o"
      },
      "source": [
        "# 對於某些較老舊的圖表,如果 tensorboard 無法顯示,請使用以下套件繪製\n",
        "\n",
        "from utils.general import plot_results  \n",
        "plot results.txt as results.png"
      ],
      "execution_count": null,
      "outputs": []
    },
    {
      "cell_type": "code",
      "metadata": {
        "id": "7Do3OIHMiOGn"
      },
      "source": [
        "# 導入繪圖與顯示套件\n",
        "from IPython.display import Image, display\n",
        "\n",
        "# 圖片路徑(如果不對記得修改), 繪圖參數\n",
        "display(Image('/content/ScaledYOLOv4/runs/exp0_yolov4-csp-results/results.png'))  # view results.png"
      ],
      "execution_count": null,
      "outputs": []
    },
    {
      "cell_type": "code",
      "metadata": {
        "id": "LcMOhDQvjnq5"
      },
      "source": [
        "# 顯示正確 Test 的照片和其標註的 label\n",
        "# 圖片路徑(如果不對記得修改), 繪圖參數\n",
        "\n",
        "print(\"GROUND TRUTH TRAINING DATA:\")\n",
        "Image(filename='/content/ScaledYOLOv4/runs/exp0_yolov4-csp-results/test_batch0_gt.jpg', width=900)"
      ],
      "execution_count": null,
      "outputs": []
    },
    {
      "cell_type": "code",
      "metadata": {
        "id": "YOEaak-ljyIE"
      },
      "source": [
        "# 顯示augment後test的照片和其標註的label\n",
        "# 圖片路徑(如果不對記得修改), 繪圖參數\n",
        "\n",
        "print(\"GROUND TRUTH AUGMENTED TRAINING DATA:\")\n",
        "Image(filename='/content/ScaledYOLOv4/runs/exp0_yolov4-csp-results/train_batch0.jpg', width=900)"
      ],
      "execution_count": null,
      "outputs": []
    },
    {
      "cell_type": "code",
      "metadata": {
        "id": "BCnV-bb2j3kK"
      },
      "source": [
        "# 已訓練完的權重會存在 runs 資料夾, 並檢視檔案與目錄的狀態\n",
        "\n",
        "%ls runs/"
      ],
      "execution_count": null,
      "outputs": []
    },
    {
      "cell_type": "code",
      "metadata": {
        "id": "dcFWuidwkE3c"
      },
      "source": [
        "# 檢視檔案與目錄的狀態\n",
        "\n",
        "%ls ./runs/exp0_yolov4-csp-results/weights"
      ],
      "execution_count": null,
      "outputs": []
    },
    {
      "cell_type": "code",
      "metadata": {
        "id": "CPHTBSO_kHuU"
      },
      "source": [
        "# inference 存放 test 資料夾下的照片\n",
        "# 使用訓練時最好的權重, best.pt (需要注意路徑是否正確)\n",
        "\n",
        "%cd /content/ScaledYOLOv4/\n",
        "!python detect.py --weights ./runs/exp0_yolov4-csp-results/weights/best_yolov4-csp-results.pt --img 416 --conf 0.4 --source ../test/images"
      ],
      "execution_count": null,
      "outputs": []
    },
    {
      "cell_type": "code",
      "metadata": {
        "id": "Ni8B69C6kP6p"
      },
      "source": [
        "# 顯示出 inference 後的圖片(需要注意路徑是否正確)\n",
        "\n",
        "import glob\n",
        "from IPython.display import Image, display\n",
        "\n",
        "for imageName in glob.glob('./inference/output/*.jpg'): #assuming JPG\n",
        "    display(Image(filename=imageName))\n",
        "    print(\"\\n\")"
      ],
      "execution_count": null,
      "outputs": []
    },
    {
      "cell_type": "code",
      "metadata": {
        "id": "i719erZMka8K"
      },
      "source": [
        "#下載權重檔案到google_drive\n",
        "\n",
        "from google.colab import files\n",
        "files.download('./runs/exp0_yolov4-csp-results/weights/best_yolov4-csp-results.pt')"
      ],
      "execution_count": null,
      "outputs": []
    }
  ]
}