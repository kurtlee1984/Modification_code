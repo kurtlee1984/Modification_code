{
  "nbformat": 4,
  "nbformat_minor": 0,
  "metadata": {
    "colab": {
      "name": "YOLOv4_Pytorch_modifcation.ipynb",
      "provenance": [],
      "authorship_tag": "ABX9TyOq1ZwsncrcUMpmumQwJn1E",
      "include_colab_link": true
    },
    "kernelspec": {
      "name": "python3",
      "display_name": "Python 3"
    },
    "language_info": {
      "name": "python"
    }
  },
  "cells": [
    {
      "cell_type": "markdown",
      "metadata": {
        "id": "view-in-github",
        "colab_type": "text"
      },
      "source": [
        "<a href=\"https://colab.research.google.com/github/kurtlee1984/Modification_code/blob/main/YOLOv4_Pytorch_modifcation.ipynb\" target=\"_parent\"><img src=\"https://colab.research.google.com/assets/colab-badge.svg\" alt=\"Open In Colab\"/></a>"
      ]
    },
    {
      "cell_type": "code",
      "metadata": {
        "id": "x5UKzebR4lOy"
      },
      "source": [
        "# 將Colab與google_drive綁定\n",
        "# 連接到指定帳號,並複製授權碼貼上\n",
        "\n",
        "from google.colab import drive\n",
        "drive.mount('/content/drive')"
      ],
      "execution_count": null,
      "outputs": []
    },
    {
      "cell_type": "code",
      "metadata": {
        "id": "fVvyhl4Y3cHK"
      },
      "source": [
        "# 從Github下載YOLOv4資料庫\n",
        "!git clone https://github.com/roboflow-ai/pytorch-YOLOv4.git"
      ],
      "execution_count": null,
      "outputs": []
    },
    {
      "cell_type": "code",
      "metadata": {
        "id": "IRRXWBJP3shk"
      },
      "source": [
        "# 安裝需求套件\n",
        "\n",
        "%cd /content/pytorch-YOLOv4\n",
        "!pip install -r requirements.txt\n",
        "\n",
        "import os\n",
        "os.kill(os.getpid(), 9)"
      ],
      "execution_count": null,
      "outputs": []
    },
    {
      "cell_type": "code",
      "metadata": {
        "id": "BCO3d_9J5BJi"
      },
      "source": [
        "# 下載於Pytorch的YOLOv4權重\n",
        "\n",
        "%cd /content/pytorch-YOLOv4/cfg/\n",
        "!gdown https://drive.google.com/uc?id=1fcbR0bWzYfIEdLJPzOsn4R5mlvR6IQyA"
      ],
      "execution_count": null,
      "outputs": []
    },
    {
      "cell_type": "code",
      "metadata": {
        "id": "yE7RfzPc5jAt"
      },
      "source": [
        "# 轉換當前路徑目錄\n",
        "# 下載資料集,並於google_drive取得壓縮檔的id\n",
        "# id取得方法,到google_drive指定壓縮檔,滑鼠右鍵選擇取得連結,更改權限由限制->知道連結的使用者,複製連結在筆記本上\n",
        "# https://drive.google.com/file/d/這裡就是壓縮檔的id/view?usp=sharing\n",
        "\n",
        "%cd /content\n",
        "!gdown --id '196DvWOY8jQZe9m6D2FFPeUBTpPSXsap0' -O dataset.zip"
      ],
      "execution_count": null,
      "outputs": []
    },
    {
      "cell_type": "code",
      "metadata": {
        "id": "ZNLFsQ4c_0Jd"
      },
      "source": [
        "# 解壓縮,注意壓縮檔名稱需與代碼一致\n",
        "# 解壓縮完,於右邊選擇檔案,看有無已解壓縮的資料夾\n",
        "\n",
        "!unzip -q dataset.zip; rm dataset.zip"
      ],
      "execution_count": null,
      "outputs": []
    },
    {
      "cell_type": "code",
      "metadata": {
        "id": "VimPzp6MHDPm"
      },
      "source": [
        "# 複製目錄檔案,並創建一個data資料夾存放\n",
        "\n",
        "%cp train/_annotations.txt train/train.txt\n",
        "%cp train/_annotations.txt train.txt\n",
        "%mkdir data\n",
        "%cp valid/_annotations.txt data/val.txt\n",
        "%cp valid/*.jpg train/"
      ],
      "execution_count": null,
      "outputs": []
    },
    {
      "cell_type": "code",
      "metadata": {
        "id": "x8yCOKuB5rPs"
      },
      "source": [
        "# 從classes.txt中定義類別數\n",
        "\n",
        "def file_len(fname):\n",
        "  with open(fname) as f:\n",
        "    for i, l in enumerate(f):\n",
        "      pass\n",
        "  return i + 1\n",
        "\n",
        "num_classes = file_len('train/_classes.txt')"
      ],
      "execution_count": null,
      "outputs": []
    },
    {
      "cell_type": "code",
      "metadata": {
        "id": "cx96XfBuG48D"
      },
      "source": [
        "# 列印並確認類別數\n",
        "\n",
        "print(num_classes)"
      ],
      "execution_count": null,
      "outputs": []
    },
    {
      "cell_type": "code",
      "metadata": {
        "id": "_DhDQta9HPEa"
      },
      "source": [
        "# 以自己所需求的epoch數量去訓練ScaledYOLOv4, 可自行修改所需要的epochs數量,這裡是1000epochs\n",
        "# 參數說明: -b\n",
        "\n",
        "!python ./pytorch-YOLOv4/train.py -b 2 -s 1 -l 0.001 -g 0 -pretrained /content/pytorch-YOLOv4/cfg/yolov4.conv.137.pth -classes {num_classes} -dir ./train -epochs 50"
      ],
      "execution_count": null,
      "outputs": []
    },
    {
      "cell_type": "code",
      "metadata": {
        "id": "6XUI2vdOZvAm"
      },
      "source": [
        "# 列出訓練過程中的checkpoints\n",
        "\n",
        "!ls checkpoints"
      ],
      "execution_count": null,
      "outputs": []
    },
    {
      "cell_type": "code",
      "metadata": {
        "id": "dro-rsGHaS7N"
      },
      "source": [
        "# 隨機拿取test資料夾的照片,並顯示出來\n",
        "\n",
        "import os\n",
        "test_images = [f for f in os.listdir('test') if f.endswith('.jpg')]\n",
        "import random\n",
        "img_path = \"test/\" + random.choice(test_images);"
      ],
      "execution_count": null,
      "outputs": []
    },
    {
      "cell_type": "code",
      "metadata": {
        "id": "_3503ezNamxN"
      },
      "source": [
        "# 顯示時間進度\n",
        "\n",
        "%%time\n",
        "# \n",
        "!python /content/pytorch-YOLOv4/models.py {num_classes} checkpoints/Yolov4_epoch46.pth {img_path} test/_classes.txt"
      ],
      "execution_count": null,
      "outputs": []
    },
    {
      "cell_type": "code",
      "metadata": {
        "id": "U_6Sf7AuDH-4"
      },
      "source": [
        "# 可視化inference結果\n",
        "\n",
        "from IPython.display import Image\n",
        "Image('predictions.jpg')"
      ],
      "execution_count": null,
      "outputs": []
    }
  ]
}