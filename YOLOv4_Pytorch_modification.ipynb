{
  "nbformat": 4,
  "nbformat_minor": 0,
  "metadata": {
    "colab": {
      "name": "YOLOv4_Pytorch_modification.ipynb",
      "provenance": [],
      "include_colab_link": true
    },
    "kernelspec": {
      "name": "python3",
      "display_name": "Python 3"
    },
    "language_info": {
      "name": "python"
    }
  },
  "cells": [
    {
      "cell_type": "markdown",
      "metadata": {
        "id": "view-in-github",
        "colab_type": "text"
      },
      "source": [
        "<a href=\"https://colab.research.google.com/github/kurtlee1984/Modification_code/blob/main/YOLOv4_Pytorch_modification.ipynb\" target=\"_parent\"><img src=\"https://colab.research.google.com/assets/colab-badge.svg\" alt=\"Open In Colab\"/></a>"
      ]
    },
    {
      "cell_type": "code",
      "metadata": {
        "id": "x5UKzebR4lOy"
      },
      "source": [
        "# 將 Cola b與 google_drive 綁定\n",
        "# 連接到指定帳號,並複製授權碼貼上\n",
        "\n",
        "from google.colab import drive\n",
        "drive.mount('/content/drive')"
      ],
      "execution_count": null,
      "outputs": []
    },
    {
      "cell_type": "code",
      "metadata": {
        "id": "24AN-CY4G-i8"
      },
      "source": [
        "# 當前設備顯卡參數列表明細:\n",
        "\n",
        "!nvidia-smi"
      ],
      "execution_count": null,
      "outputs": []
    },
    {
      "cell_type": "code",
      "metadata": {
        "id": "fVvyhl4Y3cHK",
        "outputId": "6d4356c9-e067-4c7a-fd7e-1a182b8271bc",
        "colab": {
          "base_uri": "https://localhost:8080/"
        }
      },
      "source": [
        "# 從 Github 下載 YOLOv4 資料庫\n",
        "\n",
        "!git clone https://github.com/roboflow-ai/pytorch-YOLOv4.git"
      ],
      "execution_count": 1,
      "outputs": [
        {
          "output_type": "stream",
          "text": [
            "Cloning into 'pytorch-YOLOv4'...\n",
            "remote: Enumerating objects: 398, done.\u001b[K\n",
            "remote: Total 398 (delta 0), reused 0 (delta 0), pack-reused 398\u001b[K\n",
            "Receiving objects: 100% (398/398), 926.53 KiB | 12.19 MiB/s, done.\n",
            "Resolving deltas: 100% (225/225), done.\n"
          ],
          "name": "stdout"
        }
      ]
    },
    {
      "cell_type": "code",
      "metadata": {
        "id": "IRRXWBJP3shk",
        "outputId": "3ea5c2d9-5060-4323-c70e-2641a2c69aae",
        "colab": {
          "base_uri": "https://localhost:8080/",
          "height": 1000
        }
      },
      "source": [
        "# 安裝需求套件\n",
        "\n",
        "%cd /content/pytorch-YOLOv4\n",
        "!pip install -r requirements.txt\n",
        "\n",
        "# import os\n",
        "# os.kill(os.getpid(), 9)"
      ],
      "execution_count": 2,
      "outputs": [
        {
          "output_type": "stream",
          "text": [
            "/content/pytorch-YOLOv4\n",
            "Collecting numpy==1.18.2\n",
            "  Downloading numpy-1.18.2-cp37-cp37m-manylinux1_x86_64.whl (20.2 MB)\n",
            "\u001b[K     |████████████████████████████████| 20.2 MB 5.9 MB/s \n",
            "\u001b[?25hCollecting torch==1.4.0\n",
            "  Downloading torch-1.4.0-cp37-cp37m-manylinux1_x86_64.whl (753.4 MB)\n",
            "\u001b[K     |████████████████████████████████| 753.4 MB 6.7 kB/s \n",
            "\u001b[?25hRequirement already satisfied: scikit_image==0.16.2 in /usr/local/lib/python3.7/dist-packages (from -r requirements.txt (line 3)) (0.16.2)\n",
            "Collecting matplotlib==2.2.3\n",
            "  Downloading matplotlib-2.2.3-cp37-cp37m-manylinux1_x86_64.whl (12.6 MB)\n",
            "\u001b[K     |████████████████████████████████| 12.6 MB 302 kB/s \n",
            "\u001b[?25hCollecting tqdm==4.43.0\n",
            "  Downloading tqdm-4.43.0-py2.py3-none-any.whl (59 kB)\n",
            "\u001b[K     |████████████████████████████████| 59 kB 4.7 MB/s \n",
            "\u001b[?25hRequirement already satisfied: easydict==1.9 in /usr/local/lib/python3.7/dist-packages (from -r requirements.txt (line 6)) (1.9)\n",
            "Requirement already satisfied: Pillow==7.1.2 in /usr/local/lib/python3.7/dist-packages (from -r requirements.txt (line 7)) (7.1.2)\n",
            "Collecting tensorboardX\n",
            "  Downloading tensorboardX-2.4-py2.py3-none-any.whl (124 kB)\n",
            "\u001b[K     |████████████████████████████████| 124 kB 56.4 MB/s \n",
            "\u001b[?25hRequirement already satisfied: PyWavelets>=0.4.0 in /usr/local/lib/python3.7/dist-packages (from scikit_image==0.16.2->-r requirements.txt (line 3)) (1.1.1)\n",
            "Requirement already satisfied: imageio>=2.3.0 in /usr/local/lib/python3.7/dist-packages (from scikit_image==0.16.2->-r requirements.txt (line 3)) (2.4.1)\n",
            "Requirement already satisfied: networkx>=2.0 in /usr/local/lib/python3.7/dist-packages (from scikit_image==0.16.2->-r requirements.txt (line 3)) (2.5.1)\n",
            "Requirement already satisfied: scipy>=0.19.0 in /usr/local/lib/python3.7/dist-packages (from scikit_image==0.16.2->-r requirements.txt (line 3)) (1.4.1)\n",
            "Requirement already satisfied: cycler>=0.10 in /usr/local/lib/python3.7/dist-packages (from matplotlib==2.2.3->-r requirements.txt (line 4)) (0.10.0)\n",
            "Requirement already satisfied: pytz in /usr/local/lib/python3.7/dist-packages (from matplotlib==2.2.3->-r requirements.txt (line 4)) (2018.9)\n",
            "Requirement already satisfied: python-dateutil>=2.1 in /usr/local/lib/python3.7/dist-packages (from matplotlib==2.2.3->-r requirements.txt (line 4)) (2.8.1)\n",
            "Requirement already satisfied: six>=1.10 in /usr/local/lib/python3.7/dist-packages (from matplotlib==2.2.3->-r requirements.txt (line 4)) (1.15.0)\n",
            "Requirement already satisfied: kiwisolver>=1.0.1 in /usr/local/lib/python3.7/dist-packages (from matplotlib==2.2.3->-r requirements.txt (line 4)) (1.3.1)\n",
            "Requirement already satisfied: pyparsing!=2.0.4,!=2.1.2,!=2.1.6,>=2.0.1 in /usr/local/lib/python3.7/dist-packages (from matplotlib==2.2.3->-r requirements.txt (line 4)) (2.4.7)\n",
            "Requirement already satisfied: decorator<5,>=4.3 in /usr/local/lib/python3.7/dist-packages (from networkx>=2.0->scikit_image==0.16.2->-r requirements.txt (line 3)) (4.4.2)\n",
            "Requirement already satisfied: protobuf>=3.8.0 in /usr/local/lib/python3.7/dist-packages (from tensorboardX->-r requirements.txt (line 8)) (3.17.3)\n",
            "Installing collected packages: numpy, matplotlib, tqdm, torch, tensorboardX\n",
            "  Attempting uninstall: numpy\n",
            "    Found existing installation: numpy 1.19.5\n",
            "    Uninstalling numpy-1.19.5:\n",
            "      Successfully uninstalled numpy-1.19.5\n",
            "  Attempting uninstall: matplotlib\n",
            "    Found existing installation: matplotlib 3.2.2\n",
            "    Uninstalling matplotlib-3.2.2:\n",
            "      Successfully uninstalled matplotlib-3.2.2\n",
            "  Attempting uninstall: tqdm\n",
            "    Found existing installation: tqdm 4.41.1\n",
            "    Uninstalling tqdm-4.41.1:\n",
            "      Successfully uninstalled tqdm-4.41.1\n",
            "  Attempting uninstall: torch\n",
            "    Found existing installation: torch 1.9.0+cu102\n",
            "    Uninstalling torch-1.9.0+cu102:\n",
            "      Successfully uninstalled torch-1.9.0+cu102\n",
            "\u001b[31mERROR: pip's dependency resolver does not currently take into account all the packages that are installed. This behaviour is the source of the following dependency conflicts.\n",
            "torchvision 0.10.0+cu102 requires torch==1.9.0, but you have torch 1.4.0 which is incompatible.\n",
            "torchtext 0.10.0 requires torch==1.9.0, but you have torch 1.4.0 which is incompatible.\n",
            "tensorflow 2.5.0 requires numpy~=1.19.2, but you have numpy 1.18.2 which is incompatible.\n",
            "plotnine 0.6.0 requires matplotlib>=3.1.1, but you have matplotlib 2.2.3 which is incompatible.\n",
            "mizani 0.6.0 requires matplotlib>=3.1.1, but you have matplotlib 2.2.3 which is incompatible.\n",
            "kapre 0.3.5 requires numpy>=1.18.5, but you have numpy 1.18.2 which is incompatible.\n",
            "datascience 0.10.6 requires folium==0.2.1, but you have folium 0.8.3 which is incompatible.\n",
            "arviz 0.11.2 requires matplotlib>=3.0, but you have matplotlib 2.2.3 which is incompatible.\n",
            "albumentations 0.1.12 requires imgaug<0.2.7,>=0.2.5, but you have imgaug 0.2.9 which is incompatible.\u001b[0m\n",
            "Successfully installed matplotlib-2.2.3 numpy-1.18.2 tensorboardX-2.4 torch-1.4.0 tqdm-4.43.0\n"
          ],
          "name": "stdout"
        },
        {
          "output_type": "display_data",
          "data": {
            "application/vnd.colab-display-data+json": {
              "pip_warning": {
                "packages": [
                  "matplotlib",
                  "mpl_toolkits",
                  "numpy"
                ]
              }
            }
          },
          "metadata": {
            "tags": []
          }
        }
      ]
    },
    {
      "cell_type": "code",
      "metadata": {
        "id": "BCO3d_9J5BJi",
        "outputId": "5e9362e4-0456-484a-94d4-4e22993b1740",
        "colab": {
          "base_uri": "https://localhost:8080/"
        }
      },
      "source": [
        "# 下載Pytorch 的 YOLOv4 權重\n",
        "\n",
        "%cd /content/pytorch-YOLOv4/cfg/\n",
        "!gdown https://drive.google.com/uc?id=1fcbR0bWzYfIEdLJPzOsn4R5mlvR6IQyA"
      ],
      "execution_count": 3,
      "outputs": [
        {
          "output_type": "stream",
          "text": [
            "/content/pytorch-YOLOv4/cfg\n",
            "Downloading...\n",
            "From: https://drive.google.com/uc?id=1fcbR0bWzYfIEdLJPzOsn4R5mlvR6IQyA\n",
            "To: /content/pytorch-YOLOv4/cfg/yolov4.conv.137.pth\n",
            "170MB [00:01, 110MB/s]\n"
          ],
          "name": "stdout"
        }
      ]
    },
    {
      "cell_type": "code",
      "metadata": {
        "id": "yE7RfzPc5jAt"
      },
      "source": [
        "# 轉換當前路徑目錄\n",
        "# 下載資料集,並於 google_drive 取得壓縮檔的 id\n",
        "# id取得方法,到 google_drive 指定壓縮檔,滑鼠右鍵選擇取得連結,更改權限由限制->知道連結的使用者,複製連結在筆記本上\n",
        "# https://drive.google.com/file/d/這裡就是壓縮檔的id/view?usp=sharing\n",
        "\n",
        "%cd /content\n",
        "!gdown --id '1s8LGb6C2HD7z2ecXiY-njxAMRMBK1Fs-' -O dataset.zip"
      ],
      "execution_count": null,
      "outputs": []
    },
    {
      "cell_type": "code",
      "metadata": {
        "id": "ZNLFsQ4c_0Jd"
      },
      "source": [
        "# 解壓縮,注意壓縮檔名稱需與代碼一致\n",
        "# 解壓縮完,於右邊選擇檔案,看有無已解壓縮的資料夾\n",
        "\n",
        "!unzip -q dataset.zip"
      ],
      "execution_count": null,
      "outputs": []
    },
    {
      "cell_type": "code",
      "metadata": {
        "id": "VimPzp6MHDPm"
      },
      "source": [
        "# 複製目錄檔案,並創建一個data資料夾存放\n",
        "\n",
        "%cp train/_annotations.txt train/train.txt\n",
        "%cp train/_annotations.txt train.txt\n",
        "\n",
        "%mkdir data\n",
        "%cp valid/_annotations.txt data/val.txt\n",
        "%cp valid/*.jpg train/"
      ],
      "execution_count": null,
      "outputs": []
    },
    {
      "cell_type": "code",
      "metadata": {
        "id": "x8yCOKuB5rPs"
      },
      "source": [
        "# 從 classes.txt 中定義類別數\n",
        "\n",
        "def file_len(fname):\n",
        "  with open(fname) as f:\n",
        "    for i, l in enumerate(f):\n",
        "      pass\n",
        "  return i + 1\n",
        "\n",
        "num_classes = file_len('train/_classes.txt')"
      ],
      "execution_count": null,
      "outputs": []
    },
    {
      "cell_type": "code",
      "metadata": {
        "id": "cx96XfBuG48D"
      },
      "source": [
        "# 列印並確認類別數\n",
        "\n",
        "print(num_classes)"
      ],
      "execution_count": null,
      "outputs": []
    },
    {
      "cell_type": "code",
      "metadata": {
        "id": "_DhDQta9HPEa"
      },
      "source": [
        "# 以自己所需求的 epoch 數量去訓練 YOLOv4, 可自行修改所需要的epochs數量,這裡是 500 epochs\n",
        "# 參數說明: -b (batch size), -s (在batch中subdivisions的數量), -l (learning rate), -g ( Gpu設定定, 0為第一顆Gpu), pretrained (是否有預訓練的 weight),\n",
        "#       -classes (類別數量), -dir (數練資料的路徑位置), -epoch (epoch數量)\n",
        "\n",
        "!python ./pytorch-YOLOv4/train.py -b 2 -s 1 -l 0.001 -g 0 -pretrained /content/pytorch-YOLOv4/cfg/yolov4.conv.137.pth -classes {num_classes} -dir ./train -epochs 500"
      ],
      "execution_count": null,
      "outputs": []
    },
    {
      "cell_type": "code",
      "metadata": {
        "id": "0kTlFe2PiqrC"
      },
      "source": [
        "# 使用 tensorboard 可視化套件\n",
        "# 讀取\"runs\"資料夾下的結果\n",
        "\n",
        "%load_ext tensorboard\n",
        "%tensorboard --logdir "
      ],
      "execution_count": null,
      "outputs": []
    },
    {
      "cell_type": "code",
      "metadata": {
        "id": "6XUI2vdOZvAm"
      },
      "source": [
        "# 列出訓練過程中的 checkpoints\n",
        "\n",
        "!ls checkpoints"
      ],
      "execution_count": null,
      "outputs": []
    },
    {
      "cell_type": "code",
      "metadata": {
        "id": "dro-rsGHaS7N"
      },
      "source": [
        "# 隨機拿取 test 資料夾的照片,並顯示出來\n",
        "\n",
        "import os\n",
        "test_images = [f for f in os.listdir('test') if f.endswith('.jpg')]\n",
        "import random\n",
        "img_path = \"test/\" + random.choice(test_images);"
      ],
      "execution_count": null,
      "outputs": []
    },
    {
      "cell_type": "code",
      "metadata": {
        "id": "_3503ezNamxN"
      },
      "source": [
        "# 選擇一個好的 epoch 結果, 用來進行 inference\n",
        "\n",
        "%%time\n",
        "!python /content/pytorch-YOLOv4/models.py {num_classes} checkpoints/Yolov4_epoch46.pth {img_path} test/_classes.txt"
      ],
      "execution_count": null,
      "outputs": []
    },
    {
      "cell_type": "code",
      "metadata": {
        "id": "U_6Sf7AuDH-4"
      },
      "source": [
        "# 可視化 inference 的結果\n",
        "\n",
        "from IPython.display import Image\n",
        "Image('predictions.jpg')"
      ],
      "execution_count": null,
      "outputs": []
    }
  ]
}