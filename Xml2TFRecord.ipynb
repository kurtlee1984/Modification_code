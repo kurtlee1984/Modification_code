{
  "nbformat": 4,
  "nbformat_minor": 0,
  "metadata": {
    "colab": {
      "name": "Xml2TFRecord.ipynb",
      "provenance": [],
      "authorship_tag": "ABX9TyPOEY8gqM2b1+aQt6VVI6ix",
      "include_colab_link": true
    },
    "kernelspec": {
      "name": "python3",
      "display_name": "Python 3"
    },
    "language_info": {
      "name": "python"
    }
  },
  "cells": [
    {
      "cell_type": "markdown",
      "metadata": {
        "id": "view-in-github",
        "colab_type": "text"
      },
      "source": [
        "<a href=\"https://colab.research.google.com/github/kurtlee1984/Modification_code/blob/main/Xml2TFRecord.ipynb\" target=\"_parent\"><img src=\"https://colab.research.google.com/assets/colab-badge.svg\" alt=\"Open In Colab\"/></a>"
      ]
    },
    {
      "cell_type": "code",
      "metadata": {
        "colab": {
          "base_uri": "https://localhost:8080/"
        },
        "id": "bSDTr_2mjC0I",
        "outputId": "c727ea85-4c04-4ba1-ae67-49d530ad33e6"
      },
      "source": [
        "# 將 Colab 與 google_drive 綁定\n",
        "# 連接到指定帳號,並複製授權碼貼上\n",
        "\n",
        "from google.colab import drive\n",
        "drive.mount('/content/drive')"
      ],
      "execution_count": 1,
      "outputs": [
        {
          "output_type": "stream",
          "text": [
            "Mounted at /content/drive\n"
          ],
          "name": "stdout"
        }
      ]
    },
    {
      "cell_type": "code",
      "metadata": {
        "colab": {
          "base_uri": "https://localhost:8080/"
        },
        "id": "HfldzDnyjbnz",
        "outputId": "d0d7de99-f458-4fcb-d4c4-f7e0720a55ff"
      },
      "source": [
        "# 從 Github 下載資料庫\n",
        "\n",
        "!git clone https://github.com/tensorflow/models.git"
      ],
      "execution_count": 37,
      "outputs": [
        {
          "output_type": "stream",
          "text": [
            "fatal: destination path 'models' already exists and is not an empty directory.\n"
          ],
          "name": "stdout"
        }
      ]
    },
    {
      "cell_type": "code",
      "metadata": {
        "id": "yq4u0wSZkAni"
      },
      "source": [
        "\n",
        "\n",
        "import os\n",
        "os.chdir('/content/models/research')"
      ],
      "execution_count": 4,
      "outputs": []
    },
    {
      "cell_type": "code",
      "metadata": {
        "colab": {
          "base_uri": "https://localhost:8080/"
        },
        "id": "w7205GNGkIug",
        "outputId": "d7e7ef8a-8d4f-4157-862e-e13c82750d31"
      },
      "source": [
        "\n",
        "\n",
        "!pwd"
      ],
      "execution_count": 5,
      "outputs": [
        {
          "output_type": "stream",
          "text": [
            "/content/models/research\n"
          ],
          "name": "stdout"
        }
      ]
    },
    {
      "cell_type": "code",
      "metadata": {
        "colab": {
          "base_uri": "https://localhost:8080/"
        },
        "id": "KIIBeNxUkNx7",
        "outputId": "e626847c-be57-4fd2-977e-ae24bede6aa8"
      },
      "source": [
        "\n",
        "\n",
        "%cd /content\n",
        "!gdown --id '1Z-oDnTLF_ZKZFi0DIa6N5gbgpgWl6pqv' -O protoc-3.10.1-win64.zip"
      ],
      "execution_count": 8,
      "outputs": [
        {
          "output_type": "stream",
          "text": [
            "/content\n",
            "Downloading...\n",
            "From: https://drive.google.com/uc?id=1Z-oDnTLF_ZKZFi0DIa6N5gbgpgWl6pqv\n",
            "To: /content/protoc-3.10.1-win64.zip\n",
            "100% 1.50M/1.50M [00:00<00:00, 101MB/s]\n"
          ],
          "name": "stdout"
        }
      ]
    },
    {
      "cell_type": "code",
      "metadata": {
        "id": "BcibLvhRkllz"
      },
      "source": [
        "\n",
        "\n",
        "!unzip -q protoc-3.10.1-win64.zip"
      ],
      "execution_count": 12,
      "outputs": []
    },
    {
      "cell_type": "code",
      "metadata": {
        "colab": {
          "base_uri": "https://localhost:8080/"
        },
        "id": "-7PrrexCkpDY",
        "outputId": "30643bf6-5034-4ddd-9649-f04dcad74365"
      },
      "source": [
        "\n",
        "!protoc object_detection/protos/string_int_label_map.proto — python_out=."
      ],
      "execution_count": 31,
      "outputs": [
        {
          "output_type": "stream",
          "text": [
            "Missing output directives.\n"
          ],
          "name": "stdout"
        }
      ]
    },
    {
      "cell_type": "code",
      "metadata": {
        "colab": {
          "base_uri": "https://localhost:8080/"
        },
        "id": "qkcGuw6Gkwr4",
        "outputId": "98e0ecfd-bbe5-4f59-9718-906a7287ba59"
      },
      "source": [
        "%cd /content\n",
        "!python setup.py build\n",
        "!python setup.py install\n",
        "!export PYTHONPATH=$PYTHONPATH:`pwd`:`pwd`/object_detection\n",
        "os.chdir('/content/models/research/object_detection')"
      ],
      "execution_count": 36,
      "outputs": [
        {
          "output_type": "stream",
          "text": [
            "/content\n",
            "Traceback (most recent call last):\n",
            "  File \"setup.py\", line 57, in <module>\n",
            "    install_requires, dependency_links = _get_requirements()\n",
            "  File \"setup.py\", line 45, in _get_requirements\n",
            "    os.path.join(os.path.dirname(__file__), '../requirements.txt'), 'r') as f:\n",
            "FileNotFoundError: [Errno 2] No such file or directory: '../requirements.txt'\n",
            "Traceback (most recent call last):\n",
            "  File \"setup.py\", line 57, in <module>\n",
            "    install_requires, dependency_links = _get_requirements()\n",
            "  File \"setup.py\", line 45, in _get_requirements\n",
            "    os.path.join(os.path.dirname(__file__), '../requirements.txt'), 'r') as f:\n",
            "FileNotFoundError: [Errno 2] No such file or directory: '../requirements.txt'\n"
          ],
          "name": "stdout"
        }
      ]
    },
    {
      "cell_type": "code",
      "metadata": {
        "id": "5jWCx8QNk0fl"
      },
      "source": [
        "import tarfile\n",
        "tf2 = tarfile.open(“/content/gdrive/My Drive/dogs-vs-cats/VOCtrainval_11-May-2012.tar”, mode=”r”)\n",
        "tf2.extractall(path=’/content/’)"
      ],
      "execution_count": null,
      "outputs": []
    },
    {
      "cell_type": "code",
      "metadata": {
        "id": "y19DRgYvk22r"
      },
      "source": [
        "!python dataset_tools/create_pascal_tf_record.py \\\n",
        " — data_dir=/content/VOCdevkit \\\n",
        " — year=VOC2012 \\\n",
        " — set=train\\\n",
        " — output_path=/content/pascal_training_n.record"
      ],
      "execution_count": null,
      "outputs": []
    },
    {
      "cell_type": "code",
      "metadata": {
        "id": "a6wNKqhgk60o"
      },
      "source": [
        "!python object_detection/dataset_tools/create_pascal_tf_record.py \\\n",
        " — data_dir=/content/VOCdevkit \\\n",
        " — year=VOC2012 \\\n",
        " — set=val\\\n",
        " — output_path=/content/pascal_val.record"
      ],
      "execution_count": null,
      "outputs": []
    },
    {
      "cell_type": "code",
      "metadata": {
        "id": "bRLp_8OhlAh2"
      },
      "source": [
        "import glob\n",
        "total_images=0\n",
        "train_files = sorted(glob.glob(‘/content/pascal_training_n.record’))\n",
        "for f_i, file in enumerate(train_files):\n",
        "  print(f_i)\n",
        "  total_images += sum([1 for _ in tf.data.TFRecordDataset(file)])"
      ],
      "execution_count": null,
      "outputs": []
    },
    {
      "cell_type": "code",
      "metadata": {
        "id": "NI3Hjiy-lEJv"
      },
      "source": [
        "import glob\n",
        "total_images=0\n",
        "train_files = sorted(glob.glob(‘/content/pascal_val_n.record’))for f_i, file in enumerate(train_files):\n",
        "  print(f_i)\n",
        "  total_images += sum([1 for _ in tf.data.TFRecordDataset(file)])"
      ],
      "execution_count": null,
      "outputs": []
    }
  ]
}