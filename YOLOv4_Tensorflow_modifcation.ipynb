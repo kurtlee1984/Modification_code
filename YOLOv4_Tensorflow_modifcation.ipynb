{
  "nbformat": 4,
  "nbformat_minor": 0,
  "metadata": {
    "colab": {
      "name": "YOLOv4_Tensorflow_modifcation.ipynb",
      "provenance": [],
      "include_colab_link": true
    },
    "kernelspec": {
      "name": "python3",
      "display_name": "Python 3"
    },
    "language_info": {
      "name": "python"
    },
    "accelerator": "GPU"
  },
  "cells": [
    {
      "cell_type": "markdown",
      "metadata": {
        "id": "view-in-github",
        "colab_type": "text"
      },
      "source": [
        "<a href=\"https://colab.research.google.com/github/kurtlee1984/Modification_code/blob/main/YOLOv4_Tensorflow_modifcation.ipynb\" target=\"_parent\"><img src=\"https://colab.research.google.com/assets/colab-badge.svg\" alt=\"Open In Colab\"/></a>"
      ]
    },
    {
      "cell_type": "code",
      "metadata": {
        "id": "fX8mfWxBmB9k",
        "colab": {
          "base_uri": "https://localhost:8080/"
        },
        "outputId": "d7d2b8f3-ff49-4a9f-8c12-2e92ce5bc3c1"
      },
      "source": [
        "# 將Colab與google_drive綁定\n",
        "# 連接到指定帳號,並複製授權碼貼上\n",
        "\n",
        "from google.colab import drive\n",
        "drive.mount('/content/drive')"
      ],
      "execution_count": 1,
      "outputs": [
        {
          "output_type": "stream",
          "text": [
            "Mounted at /content/drive\n"
          ],
          "name": "stdout"
        }
      ]
    },
    {
      "cell_type": "code",
      "metadata": {
        "id": "gwnvzQnmz6e8",
        "colab": {
          "base_uri": "https://localhost:8080/"
        },
        "outputId": "3eb6b9a3-1b03-49fa-8b9f-791cabc262d5"
      },
      "source": [
        "# 下載資料集,並於google_drive取得壓縮檔的id\n",
        "# id取得方法,到google_drive指定壓縮檔,滑鼠右鍵選擇取得連結,更改權限由限制->知道連結的使用者,複製連結在筆記本上\n",
        "# https://drive.google.com/file/d/這裡就是壓縮檔的id/view?usp=sharing\n",
        "\n",
        "%cd /content\n",
        "!gdown --id '1OsWNyLcPdvIO_x7fVCWXswu-THNhq_8H' -O dataset.zip\n",
        "\n",
        "# %cd /content\n",
        "# !gdown --id '1eklaKQIfh6EUtYWBfW3MXeBZOxXFlTZb' -O dataset.zip"
      ],
      "execution_count": 2,
      "outputs": [
        {
          "output_type": "stream",
          "text": [
            "/content\n",
            "Downloading...\n",
            "From: https://drive.google.com/uc?id=1eklaKQIfh6EUtYWBfW3MXeBZOxXFlTZb\n",
            "To: /content/dataset.zip\n",
            "277MB [00:01, 176MB/s]\n"
          ],
          "name": "stdout"
        }
      ]
    },
    {
      "cell_type": "code",
      "metadata": {
        "id": "NyI-MWFZ0GBL"
      },
      "source": [
        "# 解壓縮,注意壓縮檔名稱需與代碼一致\n",
        "# 解壓縮完,於右邊選擇檔案,看有無已解壓縮的資料夾\n",
        "\n",
        "!unzip -q dataset.zip; rm dataset.zip"
      ],
      "execution_count": 3,
      "outputs": []
    },
    {
      "cell_type": "code",
      "metadata": {
        "id": "9Brk4n-eX4jq"
      },
      "source": [
        "# 從Github下載yolo-v4-tf.keras資料庫\n",
        "\n",
        "# !git clone https://github.com/taipingeric/yolo-v4-tf.keras.git"
      ],
      "execution_count": null,
      "outputs": []
    },
    {
      "cell_type": "code",
      "metadata": {
        "id": "lkqdLPEsbHC0"
      },
      "source": [
        "# 將 google_drve 的 yolo-v4-tf.keras資料夾綁定成系統路徑\n",
        "\n",
        "import sys\n",
        "folder_path = '/content/drive/MyDrive/yolo-v4-tf.keras' \n",
        "sys.path.append(folder_path)"
      ],
      "execution_count": null,
      "outputs": []
    },
    {
      "cell_type": "code",
      "metadata": {
        "id": "SCkFdTBo0PFq"
      },
      "source": [
        "#  導入yolo-v4-tf.keras的函示庫與必要套件\n",
        "\n",
        "from utils import DataGenerator, read_annotation_lines\n",
        "from models import Yolov4\n",
        "from config import yolo_config\n",
        "import os"
      ],
      "execution_count": null,
      "outputs": []
    },
    {
      "cell_type": "code",
      "metadata": {
        "id": "r-1DxhST0mRH"
      },
      "source": [
        "# 定義train與vail的標註檔和圖像檔的位置路徑, (因為有進行data augmentation,故已將train和val分開), data augmentatio後檔案已變形不適合val\n",
        "\n",
        "# 若未進行增強或是增強是在 DataGenerator 時進行,可以使用 train_test_split 區分 test 和 valid, 但 dataset 也要相對應的做改變\n",
        "# rain_lines, val_lines = read_annotation_lines('./content/train_txt/annotations.txt', test_size=0.1)\n",
        "\n",
        "train_lines = './content/train_txt/annotations.txt'\n",
        "train_folder_path  = './content/train_img/'\n",
        "\n",
        "valid_lines = './content/valid_txt/annotations.txt'\n",
        "valid_folder_path = './content/valid_img/'\n",
        "\n",
        "# 定義類別檔的位置路徑\n",
        "\n",
        "class_name_path = os.path.join(FOLDER_PATH, 'class_names/food_classes.txt')\n",
        "\n",
        "# 設定 train 和 valid 的 dataGenerator\n",
        "\n",
        "data_gen_train = DataGenerator(train_lines, class_name_path, train_folder_path)\n",
        "data_gen_valid = DataGenerator(valid_lines, class_name_path, valid_folder_path)\n",
        "\n",
        "# 導入模型函數與架構,不導入權重參數\n",
        "\n",
        "model = Yolov4(weight_path=None, \n",
        "               class_name_path=class_name_path)\n",
        "\n",
        "# 餵入訓練資料,設定epochs數,這裡設定為100\n",
        "\n",
        "model.fit(data_gen_train, \n",
        "          initial_epoch=0,\n",
        "          epochs=100, \n",
        "          val_data_gen=data_gen_valid)"
      ],
      "execution_count": null,
      "outputs": []
    },
    {
      "cell_type": "code",
      "metadata": {
        "id": "hgNVIi-njiQs"
      },
      "source": [
        "# 設定標註和圖像的路徑, 並使用train_test_split 區分 train 和 valid, test_size(可調整)\n",
        "\n",
        "# train_lines, val_lines = read_annotation_lines('./train_txt/anno.txt', test_size=0.1)\n",
        "# IMG_FOLDER_PATH = './'\n",
        "# class_name_path = os.path.join(FOLDER_PATH, 'class_names/food_classes.txt')\n",
        "# data_gen_train = DataGenerator(train_lines, class_name_path, IMG_FOLDER_PATH)\n",
        "# data_gen_val = DataGenerator(val_lines, class_name_path, IMG_FOLDER_PATH)\n",
        "\n",
        "# model = Yolov4(weight_path=None, \n",
        "#                class_name_path=class_name_path)\n",
        "\n",
        "# model.fit(data_gen_train, \n",
        "#           initial_epoch=0,\n",
        "#           epochs=100, \n",
        "#           val_data_gen=data_gen_val)"
      ],
      "execution_count": null,
      "outputs": []
    },
    {
      "cell_type": "code",
      "metadata": {
        "id": "_21BGFUUP71R"
      },
      "source": [
        "# 將模型儲存到 google_drive,  和 colab 上\n",
        "\n",
        "model.yolo_model.save('./content/drive/MyDrive/model.h5')\n",
        "model.yolo_model.save(('./content/model.h5')"
      ],
      "execution_count": null,
      "outputs": []
    },
    {
      "cell_type": "code",
      "metadata": {
        "id": "t0gaEBSbP-2A"
      },
      "source": [
        "# 將權重儲存到 google_drive, 和 colab 上\n",
        "\n",
        "model.yolo_model.save_weights('./content/drive/MyDrive/yolov4_weights.h5')\n",
        "model.yolo_model.save_weights('./content/yolov4_weights.h5')"
      ],
      "execution_count": null,
      "outputs": []
    },
    {
      "cell_type": "code",
      "metadata": {
        "id": "Yu9MVbjOGMJm"
      },
      "source": [
        "# 導入 inference 所需要的套件與函式庫\n",
        "\n",
        "import cv2\n",
        "import numpy as np\n",
        "import os\n",
        "from models import Yolov4\n",
        "from glob import glob"
      ],
      "execution_count": null,
      "outputs": []
    },
    {
      "cell_type": "code",
      "metadata": {
        "id": "vKfSlKc7oHwv"
      },
      "source": [
        "# 下載已訓練好的權重,並將檔名成 model.h5\n",
        "\n",
        "!gdown --id \"\" -O model.h5"
      ],
      "execution_count": null,
      "outputs": []
    },
    {
      "cell_type": "code",
      "metadata": {
        "id": "pYmLGJoSIIff"
      },
      "source": [
        "# 導入模型和權重檔案,建立模型\n",
        "# 設定類別路徑\n",
        "\n",
        "model = Yolov4(class_name_path = os.path.join(FOLDER_PATH, 'class_names', 'food_classes.txt'))  \n",
        "\n",
        "model.load_model('model.h5')"
      ],
      "execution_count": null,
      "outputs": []
    },
    {
      "cell_type": "code",
      "metadata": {
        "id": "uMlFGzKAnqfD"
      },
      "source": [
        "# 設定test圖片路徑\n",
        "\n",
        "img_paths = glob('/test_img/*.jpg')\n",
        "len(img_paths)"
      ],
      "execution_count": null,
      "outputs": []
    },
    {
      "cell_type": "code",
      "metadata": {
        "id": "NlMwAJ6Xqk87"
      },
      "source": [
        "# 隨機選擇 test 圖片進行物件預測\n",
        "\n",
        "path = np.random.choice(img_paths, 1)[0]\n",
        "model.predict(path)"
      ],
      "execution_count": null,
      "outputs": []
    }
  ]
}