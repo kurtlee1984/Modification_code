{
  "nbformat": 4,
  "nbformat_minor": 0,
  "metadata": {
    "colab": {
      "name": "YOLOv4_Tensorflow_modifcation.ipynb",
      "provenance": [],
      "authorship_tag": "ABX9TyPBtTWhvUSWEEPbq5YotkPG",
      "include_colab_link": true
    },
    "kernelspec": {
      "name": "python3",
      "display_name": "Python 3"
    },
    "language_info": {
      "name": "python"
    }
  },
  "cells": [
    {
      "cell_type": "markdown",
      "metadata": {
        "id": "view-in-github",
        "colab_type": "text"
      },
      "source": [
        "<a href=\"https://colab.research.google.com/github/kurtlee1984/Modification_code/blob/main/YOLOv4_Tensorflow_modifcation.ipynb\" target=\"_parent\"><img src=\"https://colab.research.google.com/assets/colab-badge.svg\" alt=\"Open In Colab\"/></a>"
      ]
    },
    {
      "cell_type": "code",
      "metadata": {
        "colab": {
          "base_uri": "https://localhost:8080/"
        },
        "id": "fX8mfWxBmB9k",
        "outputId": "6249c3c8-65cf-464e-f192-2bd5d2d44780"
      },
      "source": [
        "# 將Colab與google_drive綁定\n",
        "# 連接到指定帳號,並複製授權碼貼上\n",
        "\n",
        "from google.colab import drive\n",
        "drive.mount('/content/drive')"
      ],
      "execution_count": null,
      "outputs": [
        {
          "output_type": "stream",
          "text": [
            "Mounted at /content/drive\n"
          ],
          "name": "stdout"
        }
      ]
    },
    {
      "cell_type": "code",
      "metadata": {
        "colab": {
          "base_uri": "https://localhost:8080/"
        },
        "id": "9Brk4n-eX4jq",
        "outputId": "15fae1bc-03db-490e-be3a-2c8048d720c4"
      },
      "source": [
        "# 從Github下載yolo-v4-tf.keras資料庫\n",
        "\n",
        "!git clone https://github.com/taipingeric/yolo-v4-tf.keras.git"
      ],
      "execution_count": null,
      "outputs": [
        {
          "output_type": "stream",
          "text": [
            "Cloning into 'yolo-v4-tf.keras'...\n",
            "remote: Enumerating objects: 1377, done.\u001b[K\n",
            "remote: Total 1377 (delta 0), reused 0 (delta 0), pack-reused 1377\u001b[K\n",
            "Receiving objects: 100% (1377/1377), 29.82 MiB | 32.98 MiB/s, done.\n",
            "Resolving deltas: 100% (714/714), done.\n"
          ],
          "name": "stdout"
        }
      ]
    },
    {
      "cell_type": "code",
      "metadata": {
        "id": "lkqdLPEsbHC0"
      },
      "source": [
        "import sys\n",
        "FOLDER_PATH = '/content/yolo-v4-tf.keras' \n",
        "sys.path.append(FOLDER_PATH)"
      ],
      "execution_count": null,
      "outputs": []
    }
  ]
}